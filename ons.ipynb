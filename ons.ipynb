{
 "cells": [
  {
   "cell_type": "code",
   "execution_count": null,
   "id": "57a49206",
   "metadata": {},
   "outputs": [],
   "source": [
    "import requests\n",
    "import pandas as pd\n",
    "import matplotlib.pyplot as plt\n",
    "\n",
    "ONS_BASE = \"https://api.beta.ons.gov.uk/v1/\"\n",
    "\n",
    "def get_list_of_datasets(limit=100):\n",
    "    dss = []\n",
    "    r = requests.get(ONS_BASE + \"datasets\", params={\"limit\": limit})\n",
    "    r.raise_for_status()\n",
    "    data = r.json()\n",
    "    dss = dss.extend(data.get(\"items\"))\n",
    "    return dss\n"
   ]
  }
 ],
 "metadata": {
  "kernelspec": {
   "display_name": ".venv",
   "language": "python",
   "name": "python3"
  },
  "language_info": {
   "codemirror_mode": {
    "name": "ipython",
    "version": 3
   },
   "file_extension": ".py",
   "mimetype": "text/x-python",
   "name": "python",
   "nbconvert_exporter": "python",
   "pygments_lexer": "ipython3",
   "version": "3.13.4"
  }
 },
 "nbformat": 4,
 "nbformat_minor": 5
}
